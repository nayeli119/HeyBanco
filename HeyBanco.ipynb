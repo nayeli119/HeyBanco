{
  "nbformat": 4,
  "nbformat_minor": 0,
  "metadata": {
    "colab": {
      "provenance": []
    },
    "kernelspec": {
      "name": "python3",
      "display_name": "Python 3"
    },
    "language_info": {
      "name": "python"
    }
  },
  "cells": [
    {
      "cell_type": "code",
      "execution_count": null,
      "metadata": {
        "id": "kXaZAIWPjEa2"
      },
      "outputs": [],
      "source": [
        "# Instalar paquetes y cargar librerías\n",
        "#!pip install pyspellchecker\n",
        "#nltk.download('punkt')\n",
        "#nltk.download('stopwords')\n",
        "#!pip install googletrans==4.0.0-rc1\n",
        "\n",
        "import nltk\n",
        "from spellchecker import SpellChecker\n",
        "import pandas as pd\n",
        "import regex as re\n",
        "from nltk.corpus import stopwords\n",
        "from nltk.tokenize import word_tokenize\n",
        "from googletrans import Translator"
      ]
    },
    {
      "cell_type": "code",
      "source": [
        "# Importar base de datos\n",
        "df = pd.read_csv(\"/content/Reto_Hey.csv\")\n",
        "\n",
        "# Visualizar primeros registros\n",
        "df.head()"
      ],
      "metadata": {
        "colab": {
          "base_uri": "https://localhost:8080/",
          "height": 261
        },
        "id": "RhaeVbtXkC4c",
        "outputId": "2597c41b-300b-407d-c4a5-028ae29f134c"
      },
      "execution_count": null,
      "outputs": [
        {
          "output_type": "stream",
          "name": "stderr",
          "text": [
            "/usr/local/lib/python3.10/dist-packages/google/colab/_dataframe_summarizer.py:88: UserWarning: Could not infer format, so each element will be parsed individually, falling back to `dateutil`. To ensure parsing is consistent and as-expected, please specify a format.\n",
            "  cast_date_col = pd.to_datetime(column, errors=\"coerce\")\n"
          ]
        },
        {
          "output_type": "execute_result",
          "data": {
            "text/plain": [
              "         date time                                              tweet\n",
              "0  2023-01-01  NaN  Resuelto, muchísimas gracias , excelente servi...\n",
              "1  2023-01-02  NaN                       Muchas gracias, espero su dm\n",
              "2  2023-01-02  NaN                                    Muchas gracias!\n",
              "3  2023-01-02  NaN  Algo similar me paso. Quería renovar mi token ...\n",
              "4  2023-01-02  NaN  Yeeeei! a través de mi cuenta en acabo de cont..."
            ],
            "text/html": [
              "\n",
              "  <div id=\"df-42d5314e-e9b8-4cf1-8430-41136f296d01\" class=\"colab-df-container\">\n",
              "    <div>\n",
              "<style scoped>\n",
              "    .dataframe tbody tr th:only-of-type {\n",
              "        vertical-align: middle;\n",
              "    }\n",
              "\n",
              "    .dataframe tbody tr th {\n",
              "        vertical-align: top;\n",
              "    }\n",
              "\n",
              "    .dataframe thead th {\n",
              "        text-align: right;\n",
              "    }\n",
              "</style>\n",
              "<table border=\"1\" class=\"dataframe\">\n",
              "  <thead>\n",
              "    <tr style=\"text-align: right;\">\n",
              "      <th></th>\n",
              "      <th>date</th>\n",
              "      <th>time</th>\n",
              "      <th>tweet</th>\n",
              "    </tr>\n",
              "  </thead>\n",
              "  <tbody>\n",
              "    <tr>\n",
              "      <th>0</th>\n",
              "      <td>2023-01-01</td>\n",
              "      <td>NaN</td>\n",
              "      <td>Resuelto, muchísimas gracias , excelente servi...</td>\n",
              "    </tr>\n",
              "    <tr>\n",
              "      <th>1</th>\n",
              "      <td>2023-01-02</td>\n",
              "      <td>NaN</td>\n",
              "      <td>Muchas gracias, espero su dm</td>\n",
              "    </tr>\n",
              "    <tr>\n",
              "      <th>2</th>\n",
              "      <td>2023-01-02</td>\n",
              "      <td>NaN</td>\n",
              "      <td>Muchas gracias!</td>\n",
              "    </tr>\n",
              "    <tr>\n",
              "      <th>3</th>\n",
              "      <td>2023-01-02</td>\n",
              "      <td>NaN</td>\n",
              "      <td>Algo similar me paso. Quería renovar mi token ...</td>\n",
              "    </tr>\n",
              "    <tr>\n",
              "      <th>4</th>\n",
              "      <td>2023-01-02</td>\n",
              "      <td>NaN</td>\n",
              "      <td>Yeeeei! a través de mi cuenta en acabo de cont...</td>\n",
              "    </tr>\n",
              "  </tbody>\n",
              "</table>\n",
              "</div>\n",
              "    <div class=\"colab-df-buttons\">\n",
              "\n",
              "  <div class=\"colab-df-container\">\n",
              "    <button class=\"colab-df-convert\" onclick=\"convertToInteractive('df-42d5314e-e9b8-4cf1-8430-41136f296d01')\"\n",
              "            title=\"Convert this dataframe to an interactive table.\"\n",
              "            style=\"display:none;\">\n",
              "\n",
              "  <svg xmlns=\"http://www.w3.org/2000/svg\" height=\"24px\" viewBox=\"0 -960 960 960\">\n",
              "    <path d=\"M120-120v-720h720v720H120Zm60-500h600v-160H180v160Zm220 220h160v-160H400v160Zm0 220h160v-160H400v160ZM180-400h160v-160H180v160Zm440 0h160v-160H620v160ZM180-180h160v-160H180v160Zm440 0h160v-160H620v160Z\"/>\n",
              "  </svg>\n",
              "    </button>\n",
              "\n",
              "  <style>\n",
              "    .colab-df-container {\n",
              "      display:flex;\n",
              "      gap: 12px;\n",
              "    }\n",
              "\n",
              "    .colab-df-convert {\n",
              "      background-color: #E8F0FE;\n",
              "      border: none;\n",
              "      border-radius: 50%;\n",
              "      cursor: pointer;\n",
              "      display: none;\n",
              "      fill: #1967D2;\n",
              "      height: 32px;\n",
              "      padding: 0 0 0 0;\n",
              "      width: 32px;\n",
              "    }\n",
              "\n",
              "    .colab-df-convert:hover {\n",
              "      background-color: #E2EBFA;\n",
              "      box-shadow: 0px 1px 2px rgba(60, 64, 67, 0.3), 0px 1px 3px 1px rgba(60, 64, 67, 0.15);\n",
              "      fill: #174EA6;\n",
              "    }\n",
              "\n",
              "    .colab-df-buttons div {\n",
              "      margin-bottom: 4px;\n",
              "    }\n",
              "\n",
              "    [theme=dark] .colab-df-convert {\n",
              "      background-color: #3B4455;\n",
              "      fill: #D2E3FC;\n",
              "    }\n",
              "\n",
              "    [theme=dark] .colab-df-convert:hover {\n",
              "      background-color: #434B5C;\n",
              "      box-shadow: 0px 1px 3px 1px rgba(0, 0, 0, 0.15);\n",
              "      filter: drop-shadow(0px 1px 2px rgba(0, 0, 0, 0.3));\n",
              "      fill: #FFFFFF;\n",
              "    }\n",
              "  </style>\n",
              "\n",
              "    <script>\n",
              "      const buttonEl =\n",
              "        document.querySelector('#df-42d5314e-e9b8-4cf1-8430-41136f296d01 button.colab-df-convert');\n",
              "      buttonEl.style.display =\n",
              "        google.colab.kernel.accessAllowed ? 'block' : 'none';\n",
              "\n",
              "      async function convertToInteractive(key) {\n",
              "        const element = document.querySelector('#df-42d5314e-e9b8-4cf1-8430-41136f296d01');\n",
              "        const dataTable =\n",
              "          await google.colab.kernel.invokeFunction('convertToInteractive',\n",
              "                                                    [key], {});\n",
              "        if (!dataTable) return;\n",
              "\n",
              "        const docLinkHtml = 'Like what you see? Visit the ' +\n",
              "          '<a target=\"_blank\" href=https://colab.research.google.com/notebooks/data_table.ipynb>data table notebook</a>'\n",
              "          + ' to learn more about interactive tables.';\n",
              "        element.innerHTML = '';\n",
              "        dataTable['output_type'] = 'display_data';\n",
              "        await google.colab.output.renderOutput(dataTable, element);\n",
              "        const docLink = document.createElement('div');\n",
              "        docLink.innerHTML = docLinkHtml;\n",
              "        element.appendChild(docLink);\n",
              "      }\n",
              "    </script>\n",
              "  </div>\n",
              "\n",
              "\n",
              "<div id=\"df-9016a24b-0685-49ca-ba3f-a4c76abad3fc\">\n",
              "  <button class=\"colab-df-quickchart\" onclick=\"quickchart('df-9016a24b-0685-49ca-ba3f-a4c76abad3fc')\"\n",
              "            title=\"Suggest charts\"\n",
              "            style=\"display:none;\">\n",
              "\n",
              "<svg xmlns=\"http://www.w3.org/2000/svg\" height=\"24px\"viewBox=\"0 0 24 24\"\n",
              "     width=\"24px\">\n",
              "    <g>\n",
              "        <path d=\"M19 3H5c-1.1 0-2 .9-2 2v14c0 1.1.9 2 2 2h14c1.1 0 2-.9 2-2V5c0-1.1-.9-2-2-2zM9 17H7v-7h2v7zm4 0h-2V7h2v10zm4 0h-2v-4h2v4z\"/>\n",
              "    </g>\n",
              "</svg>\n",
              "  </button>\n",
              "\n",
              "<style>\n",
              "  .colab-df-quickchart {\n",
              "      --bg-color: #E8F0FE;\n",
              "      --fill-color: #1967D2;\n",
              "      --hover-bg-color: #E2EBFA;\n",
              "      --hover-fill-color: #174EA6;\n",
              "      --disabled-fill-color: #AAA;\n",
              "      --disabled-bg-color: #DDD;\n",
              "  }\n",
              "\n",
              "  [theme=dark] .colab-df-quickchart {\n",
              "      --bg-color: #3B4455;\n",
              "      --fill-color: #D2E3FC;\n",
              "      --hover-bg-color: #434B5C;\n",
              "      --hover-fill-color: #FFFFFF;\n",
              "      --disabled-bg-color: #3B4455;\n",
              "      --disabled-fill-color: #666;\n",
              "  }\n",
              "\n",
              "  .colab-df-quickchart {\n",
              "    background-color: var(--bg-color);\n",
              "    border: none;\n",
              "    border-radius: 50%;\n",
              "    cursor: pointer;\n",
              "    display: none;\n",
              "    fill: var(--fill-color);\n",
              "    height: 32px;\n",
              "    padding: 0;\n",
              "    width: 32px;\n",
              "  }\n",
              "\n",
              "  .colab-df-quickchart:hover {\n",
              "    background-color: var(--hover-bg-color);\n",
              "    box-shadow: 0 1px 2px rgba(60, 64, 67, 0.3), 0 1px 3px 1px rgba(60, 64, 67, 0.15);\n",
              "    fill: var(--button-hover-fill-color);\n",
              "  }\n",
              "\n",
              "  .colab-df-quickchart-complete:disabled,\n",
              "  .colab-df-quickchart-complete:disabled:hover {\n",
              "    background-color: var(--disabled-bg-color);\n",
              "    fill: var(--disabled-fill-color);\n",
              "    box-shadow: none;\n",
              "  }\n",
              "\n",
              "  .colab-df-spinner {\n",
              "    border: 2px solid var(--fill-color);\n",
              "    border-color: transparent;\n",
              "    border-bottom-color: var(--fill-color);\n",
              "    animation:\n",
              "      spin 1s steps(1) infinite;\n",
              "  }\n",
              "\n",
              "  @keyframes spin {\n",
              "    0% {\n",
              "      border-color: transparent;\n",
              "      border-bottom-color: var(--fill-color);\n",
              "      border-left-color: var(--fill-color);\n",
              "    }\n",
              "    20% {\n",
              "      border-color: transparent;\n",
              "      border-left-color: var(--fill-color);\n",
              "      border-top-color: var(--fill-color);\n",
              "    }\n",
              "    30% {\n",
              "      border-color: transparent;\n",
              "      border-left-color: var(--fill-color);\n",
              "      border-top-color: var(--fill-color);\n",
              "      border-right-color: var(--fill-color);\n",
              "    }\n",
              "    40% {\n",
              "      border-color: transparent;\n",
              "      border-right-color: var(--fill-color);\n",
              "      border-top-color: var(--fill-color);\n",
              "    }\n",
              "    60% {\n",
              "      border-color: transparent;\n",
              "      border-right-color: var(--fill-color);\n",
              "    }\n",
              "    80% {\n",
              "      border-color: transparent;\n",
              "      border-right-color: var(--fill-color);\n",
              "      border-bottom-color: var(--fill-color);\n",
              "    }\n",
              "    90% {\n",
              "      border-color: transparent;\n",
              "      border-bottom-color: var(--fill-color);\n",
              "    }\n",
              "  }\n",
              "</style>\n",
              "\n",
              "  <script>\n",
              "    async function quickchart(key) {\n",
              "      const quickchartButtonEl =\n",
              "        document.querySelector('#' + key + ' button');\n",
              "      quickchartButtonEl.disabled = true;  // To prevent multiple clicks.\n",
              "      quickchartButtonEl.classList.add('colab-df-spinner');\n",
              "      try {\n",
              "        const charts = await google.colab.kernel.invokeFunction(\n",
              "            'suggestCharts', [key], {});\n",
              "      } catch (error) {\n",
              "        console.error('Error during call to suggestCharts:', error);\n",
              "      }\n",
              "      quickchartButtonEl.classList.remove('colab-df-spinner');\n",
              "      quickchartButtonEl.classList.add('colab-df-quickchart-complete');\n",
              "    }\n",
              "    (() => {\n",
              "      let quickchartButtonEl =\n",
              "        document.querySelector('#df-9016a24b-0685-49ca-ba3f-a4c76abad3fc button');\n",
              "      quickchartButtonEl.style.display =\n",
              "        google.colab.kernel.accessAllowed ? 'block' : 'none';\n",
              "    })();\n",
              "  </script>\n",
              "</div>\n",
              "    </div>\n",
              "  </div>\n"
            ],
            "application/vnd.google.colaboratory.intrinsic+json": {
              "type": "dataframe",
              "variable_name": "df",
              "summary": "{\n  \"name\": \"df\",\n  \"rows\": 812,\n  \"fields\": [\n    {\n      \"column\": \"date\",\n      \"properties\": {\n        \"dtype\": \"object\",\n        \"num_unique_values\": 324,\n        \"samples\": [\n          \"2023-06-30\",\n          \"2023-05-31\",\n          \"2023-07-05\"\n        ],\n        \"semantic_type\": \"\",\n        \"description\": \"\"\n      }\n    },\n    {\n      \"column\": \"time\",\n      \"properties\": {\n        \"dtype\": \"date\",\n        \"min\": \"2024-05-05 00:01:54\",\n        \"max\": \"2024-05-05 23:58:29\",\n        \"num_unique_values\": 423,\n        \"samples\": [\n          \"23:38:12\",\n          \"16:58:44\",\n          \"18:33:09\"\n        ],\n        \"semantic_type\": \"\",\n        \"description\": \"\"\n      }\n    },\n    {\n      \"column\": \"tweet\",\n      \"properties\": {\n        \"dtype\": \"string\",\n        \"num_unique_values\": 762,\n        \"samples\": [\n          \"Se cay\\u00f3 la app de todo ha sido una buena experiencia con ustedes, no me fallen cuando se les necesita\",\n          \"Ser agradecida. Y si es con el de abajo mejor...\",\n          \"Gracias!Ya respond\\u00ed.Quedo atenta\"\n        ],\n        \"semantic_type\": \"\",\n        \"description\": \"\"\n      }\n    }\n  ]\n}"
            }
          },
          "metadata": {},
          "execution_count": 2
        }
      ]
    },
    {
      "cell_type": "code",
      "source": [
        "# Conocer nombre de las columnas\n",
        "df.columns"
      ],
      "metadata": {
        "colab": {
          "base_uri": "https://localhost:8080/"
        },
        "id": "khSKF5ybl3c0",
        "outputId": "67952769-c1b2-455c-cc9f-18e2c9aa8f67"
      },
      "execution_count": null,
      "outputs": [
        {
          "output_type": "execute_result",
          "data": {
            "text/plain": [
              "Index(['date', 'time', 'tweet'], dtype='object')"
            ]
          },
          "metadata": {},
          "execution_count": 3
        }
      ]
    },
    {
      "cell_type": "code",
      "source": [
        "# Verificar tipo de datos\n",
        "df.dtypes"
      ],
      "metadata": {
        "colab": {
          "base_uri": "https://localhost:8080/"
        },
        "id": "7fmB_epmkXF5",
        "outputId": "4e9da68c-791b-480a-ed4c-f8214239473a"
      },
      "execution_count": null,
      "outputs": [
        {
          "output_type": "execute_result",
          "data": {
            "text/plain": [
              "date     object\n",
              "time     object\n",
              "tweet    object\n",
              "dtype: object"
            ]
          },
          "metadata": {},
          "execution_count": 4
        }
      ]
    },
    {
      "cell_type": "code",
      "source": [
        "# Limpieza de la base de datos\n",
        "def eliminar_emojis(texto):\n",
        "    patron = re.compile(pattern = \"[\"\n",
        "                                 u\"\\U0001F600-\\U0001F64F\"  # emoticones\n",
        "                                 u\"\\U0001F300-\\U0001F5FF\"  # símbolos y pictogramas\n",
        "                                 u\"\\U0001F680-\\U0001F6FF\"  # transporte y símbolos de mapa\n",
        "                                 u\"\\U0001F700-\\U0001F77F\"  # símbolos de alquimia\n",
        "                                 u\"\\U0001F780-\\U0001F7FF\"  # símbolos de ajedrez\n",
        "                                 u\"\\U0001F800-\\U0001F8FF\"  # símbolos de punto de código\n",
        "                                 u\"\\U0001F900-\\U0001F9FF\"  # símbolos suplementarios y pictogramas\n",
        "                                 u\"\\U0001FA00-\\U0001FA6F\"  # pictogramas de actividades\n",
        "                                 u\"\\U0001FA70-\\U0001FAFF\"  # pictogramas de comidas\n",
        "                                 u\"\\U00002702-\\U000027B0\"  # símbolos de cartas\n",
        "                                 u\"\\U000024C2-\\U0001F251\"\n",
        "                                 \"]+\", flags = re.UNICODE)\n",
        "    return patron.sub(r'', texto)"
      ],
      "metadata": {
        "id": "YQ65utkyno7j"
      },
      "execution_count": null,
      "outputs": []
    },
    {
      "cell_type": "code",
      "source": [
        "df['tweet'] = df['tweet'].apply(eliminar_emojis)"
      ],
      "metadata": {
        "id": "JK3WGT_BnqeS"
      },
      "execution_count": null,
      "outputs": []
    },
    {
      "cell_type": "code",
      "source": [
        "# Función para limpiar el texto\n",
        "def limpiar_texto(texto):\n",
        "    texto = texto.lower()\n",
        "    texto = re.sub(r'[^a-zA-ZáéíóúÁÉÍÓÚñÑ\\s]', '', texto)\n",
        "    texto_sin_numeros = re.sub(r'\\d+', '', texto)\n",
        "    tokens = word_tokenize(texto)\n",
        "    stop_words_esp = set(stopwords.words(\"spanish\"))\n",
        "    tokens_filtrados = [token for token in tokens if token not in stop_words_esp]\n",
        "    texto_limpio = ' '.join(tokens_filtrados)\n",
        "    return texto_limpio"
      ],
      "metadata": {
        "id": "RdvFzl4G-7WF"
      },
      "execution_count": null,
      "outputs": []
    },
    {
      "cell_type": "code",
      "source": [
        "df['tweet'] = df['tweet'].apply(limpiar_texto)"
      ],
      "metadata": {
        "id": "06ezYa4JBHem"
      },
      "execution_count": null,
      "outputs": []
    },
    {
      "cell_type": "code",
      "source": [
        "# Cambiar el tipo de datos\n",
        "df['date'] = pd.to_datetime(df['date'])\n",
        "df['time'] = pd.to_datetime(df['time'], format='%H:%M:%S')\n",
        "df['tweet'] = df['tweet'].astype(str)"
      ],
      "metadata": {
        "id": "bp4srR4dkhZT"
      },
      "execution_count": null,
      "outputs": []
    },
    {
      "cell_type": "code",
      "source": [
        "df.dtypes"
      ],
      "metadata": {
        "colab": {
          "base_uri": "https://localhost:8080/"
        },
        "id": "PyzhgcExoBky",
        "outputId": "58b3f49e-2d44-4f81-d782-a4809c2a6e2f"
      },
      "execution_count": null,
      "outputs": [
        {
          "output_type": "execute_result",
          "data": {
            "text/plain": [
              "date     datetime64[ns]\n",
              "time     datetime64[ns]\n",
              "tweet            object\n",
              "dtype: object"
            ]
          },
          "metadata": {},
          "execution_count": 10
        }
      ]
    },
    {
      "cell_type": "code",
      "source": [
        "# Descarga primer archivo para corregir faltas de ortografía más comunes\n",
        "# df.to_csv('datos.csv', index=False)"
      ],
      "metadata": {
        "id": "MuKMrOFBNYMl"
      },
      "execution_count": null,
      "outputs": []
    },
    {
      "cell_type": "code",
      "source": [
        "##############################################################################################################"
      ],
      "metadata": {
        "id": "0UdU-NBfNxnW"
      },
      "execution_count": null,
      "outputs": []
    },
    {
      "cell_type": "code",
      "source": [
        "# Definir un diccionario de mapeo de palabras originales a palabras nuevas\n",
        "mapeo_palabras = {'siii': 'si',\n",
        "                  'inveir': 'invertir',\n",
        "                  'poafolio': 'portafolio',\n",
        "                  'coesía': 'cortesía',\n",
        "                  'thanks': 'gracias',\n",
        "                  'thanku': 'gracias',\n",
        "                  'thx': 'gracias',\n",
        "                  'graciaaas': 'gracias',\n",
        "                  'bn': 'bien',\n",
        "                  'afounadamente': 'afortunadamente',\n",
        "                  'boletodorado': 'boleto dorado',\n",
        "                  'congrats': 'felicitaciones',\n",
        "                  'suee': 'suerte',\n",
        "                  'tio': 'tío',\n",
        "                  'pae': 'parte',\n",
        "                  'tkm': 'tqm',\n",
        "                  'soeo': 'sorteo',\n",
        "                  'tdc': 'tarjeta de crédito',\n",
        "                  'vdd': 'verdad',\n",
        "                  'xd': 'jajaja',\n",
        "                  'jajajajjaja': 'jajaja',\n",
        "                  'inveir': 'invertir',\n",
        "                  'compairles': 'compartirles',\n",
        "                  'wooow': 'wow',\n",
        "                  'wwwooowww': 'wow',\n",
        "                  'wwwowww': 'wow',\n",
        "                  'tercermundista': 'tercer mundista',\n",
        "                  'tikitoki': 'tiktok',\n",
        "                  'dae': 'darte',\n",
        "                  'pal noe': 'pal norte',\n",
        "                  'palnoe': 'pal norte',\n",
        "                  'hey banco': 'heybanco',\n",
        "                  'muchísimas': 'muchas',\n",
        "                  'sopoe': 'soporte',\n",
        "                  'repoe': 'reporte',\n",
        "                  'vaaaaa': 'va',\n",
        "                  'fiiiin': 'fin',\n",
        "                  'yap': 'ya',\n",
        "                  'hrs': 'horas',\n",
        "                  'dm': 'mensaje directo',\n",
        "                  'todaa': 'toda',\n",
        "                  'banoe': 'banorte',\n",
        "                  'ganeee': 'gané'\n",
        "                  }\n",
        "\n",
        "# Cambiar varias palabras por otras en la columna \"Comentario\"\n",
        "df['tweet'] = df['tweet'].replace(mapeo_palabras, regex=True)"
      ],
      "metadata": {
        "id": "Q7lJDQ-5NIWN"
      },
      "execution_count": null,
      "outputs": []
    },
    {
      "cell_type": "code",
      "source": [
        "df['tweet'].isna().sum()"
      ],
      "metadata": {
        "colab": {
          "base_uri": "https://localhost:8080/"
        },
        "id": "xWo-ViH-a9oE",
        "outputId": "5a028253-74c1-4ad9-caf7-57038727a431"
      },
      "execution_count": null,
      "outputs": [
        {
          "output_type": "execute_result",
          "data": {
            "text/plain": [
              "0"
            ]
          },
          "metadata": {},
          "execution_count": 17
        }
      ]
    },
    {
      "cell_type": "code",
      "source": [
        "df.to_csv('HeyBanco_limpio.csv', index=False)"
      ],
      "metadata": {
        "id": "lVh0yE4BGzn3"
      },
      "execution_count": null,
      "outputs": []
    }
  ]
}